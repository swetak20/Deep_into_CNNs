{
 "cells": [
  {
   "cell_type": "code",
   "execution_count": null,
   "metadata": {
    "execution": {
     "iopub.execute_input": "2021-07-14T13:59:38.21956Z",
     "iopub.status.busy": "2021-07-14T13:59:38.219124Z",
     "iopub.status.idle": "2021-07-14T13:59:39.565416Z",
     "shell.execute_reply": "2021-07-14T13:59:39.56383Z",
     "shell.execute_reply.started": "2021-07-14T13:59:38.219473Z"
    }
   },
   "outputs": [],
   "source": [
    "import torch\n",
    "import numpy as np\n",
    "\n",
    "# check if CUDA is available\n",
    "train_on_gpu = torch.cuda.is_available()\n",
    "\n",
    "if not train_on_gpu:\n",
    "    print('CUDA is not available.  Training on CPU ...')\n",
    "else:\n",
    "    print('CUDA is available!  Training on GPU ...')"
   ]
  },
  {
   "cell_type": "code",
   "execution_count": null,
   "metadata": {
    "execution": {
     "iopub.execute_input": "2021-07-14T13:59:43.706004Z",
     "iopub.status.busy": "2021-07-14T13:59:43.70555Z",
     "iopub.status.idle": "2021-07-14T13:59:44.488088Z",
     "shell.execute_reply": "2021-07-14T13:59:44.487111Z",
     "shell.execute_reply.started": "2021-07-14T13:59:43.705966Z"
    }
   },
   "outputs": [],
   "source": [
    "import matplotlib.pyplot as plt\n",
    "import matplotlib.image as mpimg\n",
    "\n",
    "import pandas as pd\n",
    "\n",
    "from sklearn.preprocessing import LabelEncoder\n",
    "\n",
    "%matplotlib inline"
   ]
  },
  {
   "cell_type": "code",
   "execution_count": null,
   "metadata": {
    "execution": {
     "iopub.execute_input": "2021-07-14T13:59:46.788979Z",
     "iopub.status.busy": "2021-07-14T13:59:46.788552Z",
     "iopub.status.idle": "2021-07-14T13:59:46.961473Z",
     "shell.execute_reply": "2021-07-14T13:59:46.960646Z",
     "shell.execute_reply.started": "2021-07-14T13:59:46.788948Z"
    }
   },
   "outputs": [],
   "source": [
    "df = pd.read_csv(\"../input/100-bird-species/birds/birds.csv\")\n",
    "df[\"filepaths\"] = df[\"filepaths\"].str.replace(\"\\\\\", \"/\", regex=False)\n",
    "prefix = \"../input/100-bird-species/birds/\"\n",
    "df[\"filepaths\"] = prefix + df[\"filepaths\"]\n",
    "le = LabelEncoder()\n",
    "df[\"y\"] = le.fit_transform(df[\"labels\"])\n",
    "df.head()"
   ]
  },
  {
   "cell_type": "code",
   "execution_count": null,
   "metadata": {
    "execution": {
     "iopub.execute_input": "2021-07-14T13:59:49.327877Z",
     "iopub.status.busy": "2021-07-14T13:59:49.327491Z",
     "iopub.status.idle": "2021-07-14T13:59:49.360055Z",
     "shell.execute_reply": "2021-07-14T13:59:49.359008Z",
     "shell.execute_reply.started": "2021-07-14T13:59:49.327841Z"
    }
   },
   "outputs": [],
   "source": [
    "df[\"data set\"].value_counts(), df[\"labels\"].value_counts()"
   ]
  },
  {
   "cell_type": "code",
   "execution_count": null,
   "metadata": {
    "execution": {
     "iopub.execute_input": "2021-07-14T13:59:51.616034Z",
     "iopub.status.busy": "2021-07-14T13:59:51.615617Z",
     "iopub.status.idle": "2021-07-14T13:59:52.657484Z",
     "shell.execute_reply": "2021-07-14T13:59:52.65674Z",
     "shell.execute_reply.started": "2021-07-14T13:59:51.615999Z"
    }
   },
   "outputs": [],
   "source": [
    "subset = df.sample(6).reset_index()\n",
    "plt.figure(figsize=(12, 12))\n",
    "for i in range(len(subset)):\n",
    "    img = mpimg.imread(subset.loc[i, \"filepaths\"])\n",
    "    label = subset.loc[i, \"labels\"]\n",
    "    plt.subplot(3,2, i+1)\n",
    "    plt.imshow(img)\n",
    "    plt.title(label)\n",
    "plt.show()"
   ]
  },
  {
   "cell_type": "code",
   "execution_count": null,
   "metadata": {
    "execution": {
     "iopub.execute_input": "2021-07-14T14:00:26.353161Z",
     "iopub.status.busy": "2021-07-14T14:00:26.352835Z",
     "iopub.status.idle": "2021-07-14T14:00:26.385583Z",
     "shell.execute_reply": "2021-07-14T14:00:26.384812Z",
     "shell.execute_reply.started": "2021-07-14T14:00:26.353133Z"
    }
   },
   "outputs": [],
   "source": [
    "BATCH_SIZE = 64\n",
    "from torch.utils.data import Dataset, DataLoader\n",
    "\n",
    "class Data(Dataset):\n",
    "    def __init__(self, df: pd.DataFrame) -> None:\n",
    "        self.files = df[\"filepaths\"].values\n",
    "        self.y = df[\"y\"].values\n",
    "        \n",
    "    def __len__(self):\n",
    "        return len(self.y)\n",
    "    \n",
    "    def __getitem__(self, i):\n",
    "        return torchvision.io.read_image(self.files[i]) / 255.0, self.y[i]\n",
    "    \n",
    "train_ds = Data(df[df[\"data set\"]==\"train\"])\n",
    "valid_ds = Data(df[df[\"data set\"]==\"valid\"])\n",
    "test_ds = Data(df[df[\"data set\"]==\"test\"])\n",
    "\n",
    "train_loader = DataLoader(train_ds, batch_size=BATCH_SIZE, shuffle=True, drop_last=True, num_workers=4, pin_memory=True)\n",
    "valid_loader = DataLoader(valid_ds, batch_size=BATCH_SIZE, shuffle=False, drop_last=False, num_workers=4, pin_memory=True)\n",
    "test_loader = DataLoader(test_ds, batch_size=BATCH_SIZE, shuffle=False, drop_last=False, num_workers=4, pin_memory=True)"
   ]
  },
  {
   "cell_type": "code",
   "execution_count": null,
   "metadata": {},
   "outputs": [],
   "source": [
    "import os\n",
    "\n",
    "classes = os.listdir(\"../input/100-bird-species/birds/train\")\n",
    "classes.sort()\n",
    "classes\n",
    "len(classes)"
   ]
  },
  {
   "cell_type": "code",
   "execution_count": null,
   "metadata": {
    "execution": {
     "iopub.execute_input": "2021-07-14T14:00:47.742404Z",
     "iopub.status.busy": "2021-07-14T14:00:47.742025Z",
     "iopub.status.idle": "2021-07-14T14:00:47.756857Z",
     "shell.execute_reply": "2021-07-14T14:00:47.755824Z",
     "shell.execute_reply.started": "2021-07-14T14:00:47.742371Z"
    }
   },
   "outputs": [],
   "source": [
    "import torch.nn as nn\n",
    "import torch.nn.functional as F\n",
    "\n",
    "class VGG11(nn.Module):\n",
    "    def __init__(self, in_channels = 3, num_classes=275):\n",
    "        super(VGG11, self).__init__()\n",
    "        self.in_channels = in_channels\n",
    "        self.num_classes = num_classes\n",
    "        # convolutional layers \n",
    "        self.conv_layers = nn.Sequential(\n",
    "            nn.Conv2d(self.in_channels, 64, kernel_size=3, padding=1),\n",
    "            nn.ReLU(),\n",
    "            nn.MaxPool2d(kernel_size=2, stride=2),\n",
    "            nn.Conv2d(64, 128, kernel_size=3, padding=1),\n",
    "            nn.ReLU(),\n",
    "            nn.MaxPool2d(kernel_size=2, stride=2),\n",
    "            nn.Conv2d(128, 256, kernel_size=3, padding=1),\n",
    "            nn.ReLU(),\n",
    "            nn.Conv2d(256, 256, kernel_size=3, padding=1),\n",
    "            nn.ReLU(),\n",
    "            nn.MaxPool2d(kernel_size=2, stride=2),\n",
    "            nn.Conv2d(256, 512, kernel_size=3, padding=1),\n",
    "            nn.ReLU(),\n",
    "            nn.Conv2d(512, 512, kernel_size=3, padding=1),\n",
    "            nn.ReLU(),\n",
    "            nn.MaxPool2d(kernel_size=2, stride=2),\n",
    "            nn.Conv2d(512, 512, kernel_size=3, padding=1),\n",
    "            nn.ReLU(),\n",
    "            nn.Conv2d(512, 512, kernel_size=3, padding=1),\n",
    "            nn.ReLU(),\n",
    "            nn.MaxPool2d(kernel_size=2, stride=2)\n",
    "        )\n",
    "        # fully connected linear layers\n",
    "        self.linear_layers = nn.Sequential(\n",
    "            nn.Linear(in_features=512*7*7, out_features=4096),\n",
    "            nn.ReLU(),\n",
    "            nn.Dropout2d(0.5),\n",
    "            nn.Linear(in_features=4096, out_features=4096),\n",
    "            nn.ReLU(),\n",
    "            nn.Dropout2d(0.5),\n",
    "            nn.Linear(in_features=4096, out_features=self.num_classes)\n",
    "        )\n",
    "    def forward(self, x):\n",
    "        x = self.conv_layers(x)\n",
    "        # flatten to prepare for the fully connected layers\n",
    "        x = x.view(x.size(0), -1)\n",
    "        x = self.linear_layers(x)\n",
    "        return x"
   ]
  },
  {
   "cell_type": "code",
   "execution_count": null,
   "metadata": {
    "execution": {
     "iopub.execute_input": "2021-07-14T14:01:05.846401Z",
     "iopub.status.busy": "2021-07-14T14:01:05.846042Z",
     "iopub.status.idle": "2021-07-14T14:01:11.127399Z",
     "shell.execute_reply": "2021-07-14T14:01:11.126548Z",
     "shell.execute_reply.started": "2021-07-14T14:01:05.846368Z"
    }
   },
   "outputs": [],
   "source": [
    "model = VGG11()\n",
    "print(model)\n",
    "\n",
    "# move tensors to GPU if CUDA is available\n",
    "if train_on_gpu:\n",
    "    model.cuda()"
   ]
  },
  {
   "cell_type": "code",
   "execution_count": null,
   "metadata": {
    "execution": {
     "iopub.execute_input": "2021-07-14T14:01:27.001761Z",
     "iopub.status.busy": "2021-07-14T14:01:27.001416Z",
     "iopub.status.idle": "2021-07-14T14:01:27.006157Z",
     "shell.execute_reply": "2021-07-14T14:01:27.005304Z",
     "shell.execute_reply.started": "2021-07-14T14:01:27.001728Z"
    }
   },
   "outputs": [],
   "source": [
    "import torch.optim as optim\n",
    "\n",
    "criterion = nn.CrossEntropyLoss()\n",
    "\n",
    "optimizer = optim.SGD(model.parameters(), lr=0.01)"
   ]
  },
  {
   "cell_type": "code",
   "execution_count": null,
   "metadata": {
    "execution": {
     "iopub.execute_input": "2021-07-14T14:01:56.593923Z",
     "iopub.status.busy": "2021-07-14T14:01:56.593538Z",
     "iopub.status.idle": "2021-07-14T15:42:27.329982Z",
     "shell.execute_reply": "2021-07-14T15:42:27.329037Z",
     "shell.execute_reply.started": "2021-07-14T14:01:56.593887Z"
    }
   },
   "outputs": [],
   "source": [
    "import torchvision\n",
    "n_epochs = 20\n",
    "\n",
    "valid_loss_min = np.Inf\n",
    "\n",
    "for epoch in range(1,n_epochs+1):\n",
    "    train_loss = 0\n",
    "    valid_loss = 0\n",
    "    \n",
    "    model.train()\n",
    "    for data, target in train_loader:\n",
    "        if train_on_gpu:\n",
    "            data, target = data.cuda(), target.cuda()\n",
    "            \n",
    "        optimizer.zero_grad()\n",
    "        output = model(data)\n",
    "        loss = criterion(output, target)\n",
    "        loss.backward()\n",
    "        optimizer.step()\n",
    "        \n",
    "        train_loss += loss.item()*data.size(0)\n",
    "        \n",
    "    model.eval()\n",
    "    for data, target in valid_loader:\n",
    "        if train_on_gpu:\n",
    "            data, target = data.cuda(), target.cuda()\n",
    "            \n",
    "            \n",
    "        output = model(data)\n",
    "        loss = criterion(output,target)\n",
    "        valid_loss += loss.item()*data.size(0)\n",
    "    \n",
    "    train_loss = train_loss/len(train_loader.dataset)\n",
    "    valid_loss = valid_loss/len(valid_loader.dataset)\n",
    "        \n",
    "    \n",
    "    print('Epoch: {} \\tTraining Loss: {:.6f} \\tValidation Loss: {:.6f}'.format(\n",
    "        epoch, train_loss, valid_loss))\n",
    "    \n",
    "    if valid_loss <= valid_loss_min:\n",
    "        print('Validation loss decreased ({:.6f} --> {:.6f}).  Saving model ...'.format(\n",
    "        valid_loss_min,\n",
    "        valid_loss))\n",
    "        torch.save(model.state_dict(), 'model_cifar.pt')\n",
    "        valid_loss_min = valid_loss"
   ]
  },
  {
   "cell_type": "code",
   "execution_count": null,
   "metadata": {
    "execution": {
     "iopub.execute_input": "2021-07-14T15:43:03.19576Z",
     "iopub.status.busy": "2021-07-14T15:43:03.195402Z",
     "iopub.status.idle": "2021-07-14T15:43:08.134945Z",
     "shell.execute_reply": "2021-07-14T15:43:08.134103Z",
     "shell.execute_reply.started": "2021-07-14T15:43:03.19572Z"
    }
   },
   "outputs": [],
   "source": [
    "from tqdm import tqdm\n",
    "device = torch.device(\"cuda\") if torch.cuda.is_available() else torch.device(\"cpu\")\n",
    "model = model.eval().to(device)\n",
    "\n",
    "y_preds = []\n",
    "ys = []\n",
    "for x, y in tqdm(test_loader):\n",
    "    y_preds.append(model(x.to(device)).argmax(dim=-1))\n",
    "    ys.append(y.to(device))\n",
    "    \n",
    "(torch.cat(y_preds) == torch.cat(ys)).float().mean()"
   ]
  },
  {
   "cell_type": "code",
   "execution_count": null,
   "metadata": {},
   "outputs": [],
   "source": [
    "model.eval()\n",
    "class_correct = list(0. for i in range(275))\n",
    "class_total = list(0. for i in range(275))\n",
    "\n",
    "test_loss = 0.0\n",
    "for images,labels in test_loader:\n",
    "    if device:\n",
    "        images,labels = images.cuda(),labels.cuda()\n",
    "    out = model(images)\n",
    "    loss = criterion(out,labels)\n",
    "\n",
    "    test_loss += loss.item() * images.size(0)\n",
    "\n",
    "\n",
    "    _,pred = torch.max(out,1)\n",
    "\n",
    "    correct_tensor = pred.eq(labels.data.view_as(pred))\n",
    "    correct = np.squeeze(correct_tensor.numpy()) if not device else np.squeeze(correct_tensor.cpu().numpy())\n",
    "\n",
    "    for i in range(labels.shape[0]):\n",
    "        tar = labels[i].data\n",
    "\n",
    "        class_correct[tar] += correct[i].item()\n",
    "        class_total[tar] += 1\n",
    "\n",
    "test_loss /= len(test_loader.dataset)\n",
    "print(\"Test Loss: {:0.6f}\".format(test_loss))\n",
    "\n",
    "for i in range(275):\n",
    "    if class_total[i] > 0:\n",
    "        print(\"Test Accuracy of {}: {}% \\t ({}/{})\".format(\n",
    "            classes[i], 100* class_correct[i]/class_total[i],np.sum(class_correct[i]),np.sum(class_total[i])\n",
    "        ))\n",
    "\n",
    "    else:\n",
    "        print(\"Test Accuracy of {}: N/A (Not Available)\".format(classes[i]))\n",
    "    \n",
    "\n",
    "print(\"\\n Average Test Accuracy: {}% \\t ({}/{})\".format(\n",
    "    100*np.sum(class_correct)/np.sum(class_total),np.sum(class_correct),np.sum(class_total)))"
   ]
  },
  {
   "cell_type": "code",
   "execution_count": null,
   "metadata": {},
   "outputs": [],
   "source": []
  }
 ],
 "metadata": {
  "kernelspec": {
   "display_name": "Python 3",
   "language": "python",
   "name": "python3"
  },
  "language_info": {
   "codemirror_mode": {
    "name": "ipython",
    "version": 3
   },
   "file_extension": ".py",
   "mimetype": "text/x-python",
   "name": "python",
   "nbconvert_exporter": "python",
   "pygments_lexer": "ipython3",
   "version": "3.8.5"
  }
 },
 "nbformat": 4,
 "nbformat_minor": 4
}
